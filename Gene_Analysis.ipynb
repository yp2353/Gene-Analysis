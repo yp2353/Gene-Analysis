{
  "cells": [
    {
      "cell_type": "code",
      "execution_count": null,
      "id": "1tS_QqOSWrYZ",
      "metadata": {
        "id": "1tS_QqOSWrYZ"
      },
      "outputs": [],
      "source": [
        "import numpy as np\n",
        "import pandas as pd\n",
        "\n",
        "import dask.dataframe as dd\n",
        "import dask.array as da\n",
        "import dask.bag as db\n",
        "from tqdm import tqdm\n",
        "import os\n",
        "from joblib import dump, load"
      ]
    },
    {
      "cell_type": "code",
      "execution_count": null,
      "id": "gt22RJ6igBCz",
      "metadata": {
        "colab": {
          "base_uri": "https://localhost:8080/"
        },
        "id": "gt22RJ6igBCz",
        "outputId": "f3502787-2472-4f9f-cf1d-b6c867529c38"
      },
      "outputs": [
        {
          "name": "stdout",
          "output_type": "stream",
          "text": [
            "Mounted at /content/drive\n"
          ]
        }
      ],
      "source": [
        "from google.colab import drive\n",
        "drive.mount('/content/drive')"
      ]
    },
    {
      "cell_type": "code",
      "execution_count": null,
      "id": "wpLUASMyWMjh",
      "metadata": {
        "id": "wpLUASMyWMjh"
      },
      "outputs": [],
      "source": [
        "# Intersect all Healthy Data Files to find common gene_ids\n",
        "import os\n",
        "\n",
        "# Define the path to the folder containing TSV files\n",
        "folder_path = '/content/drive/MyDrive/Datasets/encode_healthy'\n",
        "\n",
        "# Get a list of all TSV files in the folder\n",
        "tsv_files = [file for file in os.listdir(folder_path) if file.endswith('.tsv')]\n",
        "\n",
        "healthy_common_gene_ids = None\n",
        "\n",
        "for tsv_file in tsv_files:\n",
        "    file_path = os.path.join(folder_path, tsv_file)\n",
        "\n",
        "    ddf = df.read_csv(file_path, delimiter='\\t', dtype={'gene_id': 'object'}, blocksize=1e6)\n",
        "\n",
        "    # Check if 'gene_id' column exists in the DataFrame\n",
        "    if 'gene_id' in ddf.columns:\n",
        "        # Get the unique values in the 'gene_id' column\n",
        "        unique_gene_ids = set(ddf['gene_id'].compute())\n",
        "\n",
        "        if healthy_common_gene_ids is None:\n",
        "            healthy_common_gene_ids = unique_gene_ids\n",
        "        else:\n",
        "            healthy_common_gene_ids.intersection_update(unique_gene_ids)\n",
        "\n",
        "\n",
        "    ddf = None"
      ]
    },
    {
      "cell_type": "code",
      "execution_count": null,
      "id": "4vmcmPN3e6Aj",
      "metadata": {
        "id": "4vmcmPN3e6Aj"
      },
      "outputs": [],
      "source": [
        "# Intersect all Cancer Data Files to find common gene_ids\n",
        "main_folder_path = '/content/drive/MyDrive/Datasets/gdc_cancer/lung_cancer'\n",
        "\n",
        "cancer_common_gene_ids = None\n",
        "\n",
        "# Iterate through each sub-folder\n",
        "for sub_folder in os.listdir(main_folder_path):\n",
        "    sub_folder_path = os.path.join(main_folder_path, sub_folder)\n",
        "\n",
        "    if os.path.isdir(sub_folder_path):\n",
        "        # Get a list of TSV files in the sub-folder\n",
        "        tsv_files = [file for file in os.listdir(sub_folder_path) if file.endswith('.tsv')]\n",
        "\n",
        "        # Iterate through each TSV file in the sub-folder\n",
        "        for tsv_file in tsv_files:\n",
        "            file_path = os.path.join(sub_folder_path, tsv_file)\n",
        "\n",
        "            # Read the TSV file using Dask and specify dtype for 'gene_id'\n",
        "            # I skip row 0 here because it's the line about gene model\n",
        "            ddf = df.read_csv(file_path, delimiter='\\t', skiprows=[0], dtype={'gene_id': 'object'})\n",
        "\n",
        "            # Check if 'gene_id' column exists in the DataFrame\n",
        "            if 'gene_id' in ddf.columns:\n",
        "                # Get the unique values in the 'gene_id' column\n",
        "                unique_gene_ids = set(ddf['gene_id'].compute())\n",
        "\n",
        "                if cancer_common_gene_ids is None:\n",
        "                    cancer_common_gene_ids = unique_gene_ids\n",
        "                else:\n",
        "                    cancer_common_gene_ids.intersection_update(unique_gene_ids)"
      ]
    },
    {
      "cell_type": "code",
      "execution_count": null,
      "id": "In_UObdwfyTY",
      "metadata": {
        "id": "In_UObdwfyTY"
      },
      "outputs": [],
      "source": [
        "# Get intersection between healthy and cancer gene_ids\n",
        "common_genes_set = healthy_common_gene_ids & cancer_common_gene_ids\n",
        "common_genes_list = list(common_genes_set)"
      ]
    },
    {
      "cell_type": "code",
      "execution_count": null,
      "id": "Q1pPRbVYU6Cv",
      "metadata": {
        "id": "Q1pPRbVYU6Cv"
      },
      "outputs": [],
      "source": [
        "# Create Cancer Dataframe\n",
        "main_folder_path = '/content/drive/MyDrive/Datasets/gdc_cancer/lung_cancer'\n",
        "\n",
        "count = 0\n",
        "list_dfs = []\n",
        "\n",
        "# Iterate through each sub-folder\n",
        "for sub_folder in tqdm(os.listdir(main_folder_path)):\n",
        "    sub_folder_path = os.path.join(main_folder_path, sub_folder)\n",
        "\n",
        "    if os.path.isdir(sub_folder_path):\n",
        "        # Get a list of TSV files in the sub-folder\n",
        "        tsv_files = [file for file in os.listdir(sub_folder_path) if file.endswith('.tsv')]\n",
        "\n",
        "        # Iterate through each TSV file in the sub-folder\n",
        "        for tsv_file in tsv_files:\n",
        "            file_path = os.path.join(sub_folder_path, tsv_file)\n",
        "\n",
        "            # Read the TSV file as Dask dataframe\n",
        "            df = dd.read_csv(file_path, sep='\\t', header=1)\n",
        "            df = df.loc[4:]\n",
        "            # select only required columns and reset index:\n",
        "            df = df[['gene_id', 'tpm_unstranded']].reset_index(drop=True)\n",
        "            # Filter for common genes only:\n",
        "            df = df[df['gene_id'].isin(common_genes_list)]\n",
        "            # assign an index which will then become row name after pivoting:\n",
        "            df = df.assign(index = count)\n",
        "            count = count + 1 # increment counter\n",
        "            # categorize the 'gene_id' col in pivot table\n",
        "            df = df.categorize(columns=['gene_id'])\n",
        "            # pivot data:\n",
        "            pivot_df = df.pivot_table(index = 'index', columns='gene_id')\n",
        "            # pivot_df.columns = pivot_df.columns.drop_level(0)\n",
        "            pivot_df = pivot_df.reset_index()\n",
        "            # append dataframe to list:\n",
        "            list_dfs.append(pivot_df)"
      ]
    },
    {
      "cell_type": "code",
      "execution_count": null,
      "id": "WqU_Fr4miTQc",
      "metadata": {
        "id": "WqU_Fr4miTQc"
      },
      "outputs": [],
      "source": [
        "result = dd.concat(list_dfs, axis=0, join='outer')\n",
        "\n",
        "# add target column:\n",
        "result['cancer'] = 1\n",
        "\n",
        "# save as parquet\n",
        "result.to_parquet('/content/drive/MyDrive/Datasets/cancer_data_pivoted')"
      ]
    },
    {
      "cell_type": "code",
      "execution_count": null,
      "id": "Und0hdodWVQ2",
      "metadata": {
        "id": "Und0hdodWVQ2"
      },
      "outputs": [],
      "source": [
        "# Create the Healthy Dataframe\n",
        "main_folder_path = '/content/drive/MyDrive/Datasets/encode_healthy'\n",
        "\n",
        "# Get a list of all TSV files in the folder\n",
        "tsv_files = [file for file in os.listdir(main_folder_path) if file.endswith('.tsv')]\n",
        "\n",
        "count = 600\n",
        "list_dfs = []\n",
        "\n",
        "for tsv_file in tqdm(tsv_files):\n",
        "    file_path = os.path.join(main_folder_path, tsv_file)\n",
        "\n",
        "    # Read the TSV file as Dask dataframe\n",
        "    df = dd.read_csv(file_path, sep='\\t', header=0, dtype={'gene_id': 'object'})\n",
        "\n",
        "    if 'gene_id' in df.columns:\n",
        "        # select only required columns and reset index:\n",
        "        df = df[['gene_id', 'TPM']].reset_index(drop=True)\n",
        "        # group by gene ID and aggregate sum of mRNA count:\n",
        "        df = df.groupby('gene_id').agg('sum').reset_index()\n",
        "        # Filter for common genes only:\n",
        "        df = df[df['gene_id'].isin(common_genes_list)]\n",
        "        # assign an index which will then become row name after pivoting:\n",
        "        df = df.assign(index = count)\n",
        "        count = count + 1 # increment counter\n",
        "        # categorize the 'gene_id' col in pivot table\n",
        "        df = df.categorize(columns=['gene_id'])\n",
        "        # pivot data:\n",
        "        pivot_df = df.pivot_table(index = 'index', columns='gene_id')\n",
        "        pivot_df = pivot_df.reset_index()\n",
        "        # append dataframe to list:\n",
        "        list_dfs.append(pivot_df)"
      ]
    },
    {
      "cell_type": "code",
      "execution_count": null,
      "id": "9Usc8WmpirZx",
      "metadata": {
        "id": "9Usc8WmpirZx"
      },
      "outputs": [],
      "source": [
        "result = dd.concat(list_dfs, axis=0, join='outer')\n",
        "\n",
        "# add target column:\n",
        "result['cancer'] = 0\n",
        "\n",
        "# save as parquet\n",
        "result.to_parquet('/content/drive/MyDrive/Datasets/healthy_data_pivoted')"
      ]
    },
    {
      "cell_type": "code",
      "execution_count": null,
      "id": "4912d456-4a71-464b-a3be-4b7811be0009",
      "metadata": {
        "id": "4912d456-4a71-464b-a3be-4b7811be0009",
        "jupyter": {
          "outputs_hidden": true,
          "source_hidden": true
        },
        "outputId": "bb038fba-ed05-40e2-ec69-7333d1d63ced",
        "tags": []
      },
      "outputs": [
        {
          "name": "stdout",
          "output_type": "stream",
          "text": [
            "<class 'dask.dataframe.core.DataFrame'>\n",
            "Columns: 26132 entries, index to cancer\n",
            "dtypes: float64(26130), int64(2)"
          ]
        }
      ],
      "source": [
        "cancer_load = dd.read_parquet('/content/drive/MyDrive/Datasets/cancer_data_pivoted')\n",
        "cancer_load.info()"
      ]
    },
    {
      "cell_type": "code",
      "execution_count": null,
      "id": "d33a4104-099a-4f68-b1dd-34e852ed914c",
      "metadata": {
        "id": "d33a4104-099a-4f68-b1dd-34e852ed914c",
        "jupyter": {
          "outputs_hidden": true,
          "source_hidden": true
        },
        "outputId": "58cbfd55-95c0-47c9-bce0-ca7d52bd9570",
        "tags": []
      },
      "outputs": [
        {
          "name": "stdout",
          "output_type": "stream",
          "text": [
            "index                  int64\n",
            "ENSG00000019995.6    float64\n",
            "ENSG00000039139.9    float64\n",
            "ENSG00000053328.8    float64\n",
            "ENSG00000060303.5    float64\n",
            "                      ...   \n",
            "ENSG00000273486.1    float64\n",
            "ENSG00000273487.1    float64\n",
            "ENSG00000273489.1    float64\n",
            "ENSG00000273493.1    float64\n",
            "cancer                 int64\n",
            "Length: 26132, dtype: object\n"
          ]
        }
      ],
      "source": [
        "print(cancer_load.dtypes)"
      ]
    },
    {
      "cell_type": "code",
      "execution_count": null,
      "id": "d201430b-d3a5-4248-ba58-f037e8a2e8d5",
      "metadata": {
        "id": "d201430b-d3a5-4248-ba58-f037e8a2e8d5",
        "jupyter": {
          "outputs_hidden": true,
          "source_hidden": true
        },
        "outputId": "7d4b40b0-bb90-4a3f-fefa-ec2f6a2f0712",
        "tags": []
      },
      "outputs": [
        {
          "name": "stdout",
          "output_type": "stream",
          "text": [
            "<class 'dask.dataframe.core.DataFrame'>\n",
            "Columns: 26132 entries, index to cancer\n",
            "dtypes: float64(26130), int64(2)"
          ]
        }
      ],
      "source": [
        "healthy_load = dd.read_parquet('/content/drive/MyDrive/Datasets/healthy_data_pivoted')\n",
        "healthy_load.info()"
      ]
    },
    {
      "cell_type": "code",
      "execution_count": null,
      "id": "3fd3751c-a28c-477c-a58a-14ba39a3f23a",
      "metadata": {
        "id": "3fd3751c-a28c-477c-a58a-14ba39a3f23a",
        "jupyter": {
          "outputs_hidden": true,
          "source_hidden": true
        },
        "outputId": "5373ea68-34d6-4a0e-f6bf-b2b175c763a5",
        "tags": []
      },
      "outputs": [
        {
          "name": "stdout",
          "output_type": "stream",
          "text": [
            "index                  int64\n",
            "ENSG00000019995.6    float64\n",
            "ENSG00000039139.9    float64\n",
            "ENSG00000053328.8    float64\n",
            "ENSG00000060303.5    float64\n",
            "                      ...   \n",
            "ENSG00000273486.1    float64\n",
            "ENSG00000273487.1    float64\n",
            "ENSG00000273489.1    float64\n",
            "ENSG00000273493.1    float64\n",
            "cancer                 int64\n",
            "Length: 26132, dtype: object\n"
          ]
        }
      ],
      "source": [
        "print(healthy_load.dtypes)"
      ]
    },
    {
      "cell_type": "code",
      "execution_count": null,
      "id": "86258e28-e9ee-47fb-b49d-90cc8da016de",
      "metadata": {
        "id": "86258e28-e9ee-47fb-b49d-90cc8da016de",
        "jupyter": {
          "source_hidden": true
        },
        "tags": []
      },
      "outputs": [],
      "source": [
        "big_table = dd.concat([cancer_load, healthy_load], axis=0, join='inner')"
      ]
    },
    {
      "cell_type": "code",
      "execution_count": null,
      "id": "139443a2-b5bf-42c5-b36f-39b584370a7f",
      "metadata": {
        "id": "139443a2-b5bf-42c5-b36f-39b584370a7f",
        "jupyter": {
          "outputs_hidden": true,
          "source_hidden": true
        },
        "outputId": "aa3b15a2-b77c-4423-8149-3bc6fee015bc",
        "tags": []
      },
      "outputs": [
        {
          "name": "stdout",
          "output_type": "stream",
          "text": [
            "<class 'dask.dataframe.core.DataFrame'>\n",
            "Columns: 26132 entries, index to cancer\n",
            "dtypes: float64(26130), int64(2)"
          ]
        }
      ],
      "source": [
        "big_table.info()"
      ]
    },
    {
      "cell_type": "code",
      "execution_count": null,
      "id": "d428d0b0-49cf-44c5-81d8-89e972c82c6b",
      "metadata": {
        "id": "d428d0b0-49cf-44c5-81d8-89e972c82c6b",
        "jupyter": {
          "outputs_hidden": true,
          "source_hidden": true
        },
        "outputId": "dda56d00-b574-4bbe-9fc9-d5d22c6bb510",
        "tags": []
      },
      "outputs": [
        {
          "name": "stdout",
          "output_type": "stream",
          "text": [
            "index                  int64\n",
            "ENSG00000019995.6    float64\n",
            "ENSG00000039139.9    float64\n",
            "ENSG00000053328.8    float64\n",
            "ENSG00000060303.5    float64\n",
            "                      ...   \n",
            "ENSG00000273486.1    float64\n",
            "ENSG00000273487.1    float64\n",
            "ENSG00000273489.1    float64\n",
            "ENSG00000273493.1    float64\n",
            "cancer                 int64\n",
            "Length: 26132, dtype: object\n"
          ]
        }
      ],
      "source": [
        "print(big_table.dtypes)"
      ]
    },
    {
      "cell_type": "code",
      "execution_count": null,
      "id": "3f0c3827-a81e-467a-aa95-214e667b2c8d",
      "metadata": {
        "id": "3f0c3827-a81e-467a-aa95-214e667b2c8d",
        "jupyter": {
          "source_hidden": true
        },
        "tags": []
      },
      "outputs": [],
      "source": [
        "# Feature importance\n",
        "from sklearn import datasets\n",
        "from sklearn import metrics\n",
        "from sklearn.ensemble import ExtraTreesClassifier\n",
        "\n",
        "# Dask\n",
        "from dask.distributed import Client\n",
        "# import dask.dataframe as dd\n",
        "import joblib\n",
        "\n",
        "# Create Local Dask Client\n",
        "client = Client(processes=False)"
      ]
    },
    {
      "cell_type": "code",
      "execution_count": null,
      "id": "61796998-55dc-407b-b88d-11fa502694d5",
      "metadata": {
        "id": "61796998-55dc-407b-b88d-11fa502694d5",
        "jupyter": {
          "source_hidden": true
        },
        "tags": []
      },
      "outputs": [],
      "source": [
        "target = big_table[['cancer']]"
      ]
    },
    {
      "cell_type": "code",
      "execution_count": null,
      "id": "9fc61078-3ae8-48bd-9d0e-23c84ba4afab",
      "metadata": {
        "id": "9fc61078-3ae8-48bd-9d0e-23c84ba4afab",
        "jupyter": {
          "source_hidden": true
        },
        "tags": []
      },
      "outputs": [],
      "source": [
        "target.info()"
      ]
    },
    {
      "cell_type": "code",
      "execution_count": null,
      "id": "c4c230a6-3191-4de4-8ab3-04c5683cbfc5",
      "metadata": {
        "id": "c4c230a6-3191-4de4-8ab3-04c5683cbfc5",
        "jupyter": {
          "source_hidden": true
        },
        "tags": []
      },
      "outputs": [],
      "source": [
        "columns_to_exclude = ['index', 'cancer']\n",
        "\n",
        "# Exclude the specified columns\n",
        "just_features = big_table.drop(columns=columns_to_exclude)"
      ]
    },
    {
      "cell_type": "code",
      "execution_count": null,
      "id": "73630f67-d05d-47cd-8497-829e7c861154",
      "metadata": {
        "id": "73630f67-d05d-47cd-8497-829e7c861154",
        "jupyter": {
          "source_hidden": true
        },
        "tags": []
      },
      "outputs": [],
      "source": [
        "just_features.info()"
      ]
    },
    {
      "cell_type": "code",
      "execution_count": null,
      "id": "65df5531-827f-4ce2-b0d2-88249dcf6bac",
      "metadata": {
        "id": "65df5531-827f-4ce2-b0d2-88249dcf6bac",
        "jupyter": {
          "source_hidden": true
        },
        "tags": []
      },
      "outputs": [],
      "source": [
        "# Fit an Extra Trees Model\n",
        "model = ExtraTreesClassifier()\n",
        "\n",
        "# When fitting, use dask joblib backend\n",
        "with joblib.parallel_backend('dask'):\n",
        "  model.fit(just_features, target)"
      ]
    },
    {
      "cell_type": "code",
      "execution_count": null,
      "id": "97c43c3f-4dce-4cf8-85d2-9874e05a73a5",
      "metadata": {
        "id": "97c43c3f-4dce-4cf8-85d2-9874e05a73a5",
        "tags": []
      },
      "outputs": [],
      "source": [
        "# Display the relative importance of eacdh attribute\n",
        "model = load(\"/content/drive/MyDrive/feature_selection.joblib\")\n",
        "print(len(model.feature_importances_))"
      ]
    },
    {
      "cell_type": "code",
      "execution_count": null,
      "id": "c85aed23-ede6-437f-94c0-201426af1dec",
      "metadata": {
        "id": "c85aed23-ede6-437f-94c0-201426af1dec",
        "tags": []
      },
      "outputs": [],
      "source": [
        "# import numpy as np\n",
        "\n",
        "# importances = model.feature_importances_\n",
        "\n",
        "# # Specify the file path for the CSV file\n",
        "# csv_file_path = 'list_importances.csv'\n",
        "\n",
        "# # Export the NumPy array as a CSV file\n",
        "# np.savetxt(csv_file_path, importances, delimiter=',', fmt='%.10f')\n",
        "\n",
        "importances = np.loadtxt(\"/content/drive/MyDrive/list_importances.xls\",\n",
        "                 delimiter=\",\")"
      ]
    },
    {
      "cell_type": "code",
      "execution_count": null,
      "id": "88fb7b39-a770-4749-a7ac-275355f7e469",
      "metadata": {
        "colab": {
          "base_uri": "https://localhost:8080/"
        },
        "id": "88fb7b39-a770-4749-a7ac-275355f7e469",
        "outputId": "532b80e0-9c16-4453-f754-369beb304206",
        "tags": []
      },
      "outputs": [
        {
          "name": "stdout",
          "output_type": "stream",
          "text": [
            "[0.0158049666, 0.0122457745, 0.0119014711, 0.0104233614, 0.0098487612, 0.0096353419, 0.0095142518, 0.0094183488, 0.0093738742, 0.0091918626]\n"
          ]
        }
      ],
      "source": [
        "import heapq\n",
        "\n",
        "k = 10\n",
        "k_keys_sorted = heapq.nlargest(k, importances)\n",
        "print(k_keys_sorted)"
      ]
    },
    {
      "cell_type": "code",
      "execution_count": null,
      "id": "7cf3a704-1206-4640-8f7b-6807a889db1c",
      "metadata": {
        "colab": {
          "base_uri": "https://localhost:8080/"
        },
        "id": "7cf3a704-1206-4640-8f7b-6807a889db1c",
        "outputId": "81611ff5-0722-4db2-93de-9d19934473d2",
        "tags": []
      },
      "outputs": [
        {
          "name": "stdout",
          "output_type": "stream",
          "text": [
            "759\n"
          ]
        }
      ],
      "source": [
        "importance_count = 0\n",
        "for i in importances:\n",
        "    if i > 0:\n",
        "        importance_count += 1\n",
        "\n",
        "print(importance_count)"
      ]
    },
    {
      "cell_type": "code",
      "execution_count": null,
      "id": "489aaa27-1b29-400f-b9d5-490b0442cd0c",
      "metadata": {
        "id": "489aaa27-1b29-400f-b9d5-490b0442cd0c",
        "tags": []
      },
      "outputs": [],
      "source": [
        "# from joblib import dump, load\n",
        "# dump(model, \"feature_selection.joblib\")\n",
        "# Load with x = load(\"feature_selection.joblib\")"
      ]
    },
    {
      "cell_type": "code",
      "execution_count": null,
      "id": "0352cd9a-e578-4bb6-a3ad-d35f1041b037",
      "metadata": {
        "id": "0352cd9a-e578-4bb6-a3ad-d35f1041b037",
        "jupyter": {
          "source_hidden": true
        },
        "tags": []
      },
      "outputs": [],
      "source": [
        "# Repartition Dataframe\n",
        "total_data = big_table.repartition(npartitions=20)"
      ]
    },
    {
      "cell_type": "code",
      "execution_count": null,
      "id": "aa82a9cf-151b-4279-a130-db109409f31d",
      "metadata": {
        "id": "aa82a9cf-151b-4279-a130-db109409f31d",
        "jupyter": {
          "source_hidden": true
        },
        "tags": []
      },
      "outputs": [],
      "source": [
        "total_data.head(5)"
      ]
    },
    {
      "cell_type": "code",
      "execution_count": null,
      "id": "fc591a45-470b-4784-9452-066ede963e50",
      "metadata": {
        "id": "fc591a45-470b-4784-9452-066ede963e50",
        "jupyter": {
          "source_hidden": true
        },
        "tags": []
      },
      "outputs": [],
      "source": [
        "# Slice out only the important features (Already Done)\n",
        "features = total_data.columns[1:-1]\n",
        "feature_array = []\n",
        "# Iterate through features and importances by index and keep new ones in an array to slice the dataframe after\n",
        "for i in range (0, len(features)):\n",
        "    if importances[i] > 0:\n",
        "        feature_array.append(features[i])\n",
        "important_data = total_data[['index'] + feature_array + ['cancer']]\n",
        "# important_data.info()\n",
        "# Save to Parquet Here\n",
        "important_data.to_parquet(\"Documents/Big Data/important_parquet/important_data_save\")"
      ]
    },
    {
      "cell_type": "code",
      "execution_count": null,
      "id": "1e8ca413-a7af-479e-8583-5796bc721513",
      "metadata": {
        "id": "1e8ca413-a7af-479e-8583-5796bc721513",
        "tags": []
      },
      "outputs": [],
      "source": [
        "# Train Test Split\n",
        "final_data = dd.read_parquet(\"/content/drive/MyDrive/Datasets/important_data_save\")\n",
        "train, test = final_data.random_split([0.8, 0.2])"
      ]
    },
    {
      "cell_type": "code",
      "execution_count": null,
      "id": "38aef499-79ba-46bc-b7a2-274f22b0c339",
      "metadata": {
        "id": "38aef499-79ba-46bc-b7a2-274f22b0c339",
        "tags": []
      },
      "outputs": [],
      "source": [
        "# Make Feature Array For Later\n",
        "features = final_data.columns[1:-1]\n",
        "full_feature_array = []\n",
        "# Iterate through features and importances by index and keep new ones in an array to slice the dataframe after\n",
        "for i in range (0, len(features)):\n",
        "    full_feature_array.append(features[i])"
      ]
    },
    {
      "cell_type": "code",
      "execution_count": null,
      "id": "c4fcdf74-dc52-4495-be0d-e58ccc32661d",
      "metadata": {
        "colab": {
          "base_uri": "https://localhost:8080/",
          "height": 250
        },
        "id": "c4fcdf74-dc52-4495-be0d-e58ccc32661d",
        "outputId": "e7b4b660-da32-4a63-ba6b-443e47b73219",
        "tags": []
      },
      "outputs": [
        {
          "ename": "NameError",
          "evalue": "ignored",
          "output_type": "error",
          "traceback": [
            "\u001b[0;31m---------------------------------------------------------------------------\u001b[0m",
            "\u001b[0;31mNameError\u001b[0m                                 Traceback (most recent call last)",
            "\u001b[0;32m<ipython-input-8-6832be29bc0d>\u001b[0m in \u001b[0;36m<cell line: 4>\u001b[0;34m()\u001b[0m\n\u001b[1;32m      2\u001b[0m \u001b[0mtrain_cancer\u001b[0m \u001b[0;34m=\u001b[0m \u001b[0;36m0\u001b[0m\u001b[0;34m\u001b[0m\u001b[0;34m\u001b[0m\u001b[0m\n\u001b[1;32m      3\u001b[0m \u001b[0mtrain_healthy\u001b[0m \u001b[0;34m=\u001b[0m \u001b[0;36m0\u001b[0m\u001b[0;34m\u001b[0m\u001b[0;34m\u001b[0m\u001b[0m\n\u001b[0;32m----> 4\u001b[0;31m \u001b[0;32mfor\u001b[0m \u001b[0mr\u001b[0m \u001b[0;32min\u001b[0m \u001b[0mtqdm\u001b[0m\u001b[0;34m(\u001b[0m\u001b[0mtrain\u001b[0m\u001b[0;34m[\u001b[0m\u001b[0;34m'cancer'\u001b[0m\u001b[0;34m]\u001b[0m\u001b[0;34m)\u001b[0m\u001b[0;34m:\u001b[0m\u001b[0;34m\u001b[0m\u001b[0;34m\u001b[0m\u001b[0m\n\u001b[0m\u001b[1;32m      5\u001b[0m     \u001b[0;32mif\u001b[0m \u001b[0mr\u001b[0m \u001b[0;34m>\u001b[0m \u001b[0;36m0\u001b[0m\u001b[0;34m:\u001b[0m\u001b[0;34m\u001b[0m\u001b[0;34m\u001b[0m\u001b[0m\n\u001b[1;32m      6\u001b[0m         \u001b[0mtrain_cancer\u001b[0m \u001b[0;34m+=\u001b[0m \u001b[0;36m1\u001b[0m\u001b[0;34m\u001b[0m\u001b[0;34m\u001b[0m\u001b[0m\n",
            "\u001b[0;31mNameError\u001b[0m: name 'train' is not defined"
          ]
        }
      ],
      "source": [
        "# Ensure the split was mostly even number from each class\n",
        "train_cancer = 0\n",
        "train_healthy = 0\n",
        "for r in tqdm(train['cancer']):\n",
        "    if r > 0:\n",
        "        train_cancer += 1\n",
        "    else:\n",
        "        train_healthy += 1\n",
        "print(\"Train Cancer: \" + str(train_cancer) + \"     Train Healthy: \" + str(train_healthy))"
      ]
    },
    {
      "cell_type": "code",
      "execution_count": null,
      "id": "3d9144f5-dc7d-423e-ac70-7e9613d9ed6a",
      "metadata": {
        "id": "3d9144f5-dc7d-423e-ac70-7e9613d9ed6a",
        "outputId": "5ecb0abe-7fcc-45a8-cf2e-774f9bb20296",
        "tags": []
      },
      "outputs": [
        {
          "name": "stderr",
          "output_type": "stream",
          "text": [
            "100%|██████████| 226/226 [00:00<00:00, 277.02it/s]"
          ]
        },
        {
          "name": "stdout",
          "output_type": "stream",
          "text": [
            "Test Cancer: 115     Test Healthy: 111\n"
          ]
        },
        {
          "name": "stderr",
          "output_type": "stream",
          "text": [
            "\n"
          ]
        }
      ],
      "source": [
        "# Part 2\n",
        "test_cancer = 0\n",
        "test_healthy = 0\n",
        "for t in tqdm(test['cancer']):\n",
        "    if t > 0:\n",
        "        test_cancer += 1\n",
        "    else:\n",
        "        test_healthy += 1\n",
        "print(\"Test Cancer: \" + str(test_cancer) + \"     Test Healthy: \" + str(test_healthy))"
      ]
    },
    {
      "cell_type": "code",
      "execution_count": null,
      "id": "f18859df-68c1-4a18-a35f-d2883afb2bcf",
      "metadata": {
        "id": "f18859df-68c1-4a18-a35f-d2883afb2bcf",
        "tags": []
      },
      "outputs": [],
      "source": [
        "# Filter out index and cancer columns and save dask array for cancer column\n",
        "train_y = train[['cancer']].to_dask_array().compute()\n",
        "columns_to_exclude = ['index', 'cancer']\n",
        "\n",
        "# Exclude the specified columns\n",
        "final_features = train.drop(columns=columns_to_exclude)"
      ]
    },
    {
      "cell_type": "code",
      "execution_count": null,
      "id": "e95cf680-1cea-4afa-bed3-33bd19c19015",
      "metadata": {
        "colab": {
          "base_uri": "https://localhost:8080/"
        },
        "id": "e95cf680-1cea-4afa-bed3-33bd19c19015",
        "outputId": "54c42faf-9192-43f0-9deb-68cd810ea6bf",
        "tags": []
      },
      "outputs": [
        {
          "name": "stderr",
          "output_type": "stream",
          "text": [
            "/usr/local/lib/python3.10/dist-packages/distributed/node.py:182: UserWarning: Port 8787 is already in use.\n",
            "Perhaps you already have a cluster running?\n",
            "Hosting the HTTP server on port 45257 instead\n",
            "  warnings.warn(\n",
            "INFO:distributed.scheduler:State start\n",
            "INFO:distributed.scheduler:  Scheduler at: inproc://172.28.0.12/4138/28\n",
            "INFO:distributed.scheduler:  dashboard at:  http://172.28.0.12:45257/status\n",
            "INFO:distributed.worker:      Start worker at: inproc://172.28.0.12/4138/31\n",
            "INFO:distributed.worker:         Listening to:          inproc172.28.0.12\n",
            "INFO:distributed.worker:          Worker name:                          0\n",
            "INFO:distributed.worker:         dashboard at:          172.28.0.12:33947\n",
            "INFO:distributed.worker:Waiting to connect to: inproc://172.28.0.12/4138/28\n",
            "INFO:distributed.worker:-------------------------------------------------\n",
            "INFO:distributed.worker:              Threads:                          2\n",
            "INFO:distributed.worker:               Memory:                  12.67 GiB\n",
            "INFO:distributed.worker:      Local Directory: /tmp/dask-scratch-space/worker-rezm8q3h\n",
            "INFO:distributed.worker:-------------------------------------------------\n",
            "INFO:distributed.scheduler:Register worker <WorkerState 'inproc://172.28.0.12/4138/31', name: 0, status: init, memory: 0, processing: 0>\n",
            "INFO:distributed.scheduler:Starting worker compute stream, inproc://172.28.0.12/4138/31\n",
            "INFO:distributed.core:Starting established connection to inproc://172.28.0.12/4138/32\n",
            "INFO:distributed.worker:Starting Worker plugin shuffle\n",
            "INFO:distributed.worker:        Registered to: inproc://172.28.0.12/4138/28\n",
            "INFO:distributed.worker:-------------------------------------------------\n",
            "INFO:distributed.core:Starting established connection to inproc://172.28.0.12/4138/28\n",
            "INFO:distributed.scheduler:Receive client connection: Client-7398f4f7-9f8e-11ee-902a-0242ac1c000c\n",
            "INFO:distributed.core:Starting established connection to inproc://172.28.0.12/4138/33\n"
          ]
        }
      ],
      "source": [
        "# Perform ML with Decision Tree Classifier with max_depth of 5\n",
        "from sklearn import datasets\n",
        "from sklearn import metrics\n",
        "from sklearn.tree import DecisionTreeClassifier\n",
        "from sklearn import tree\n",
        "\n",
        "# Dask\n",
        "from dask.distributed import Client\n",
        "# import dask.dataframe as dd\n",
        "import joblib\n",
        "\n",
        "# Create Local Dask Client\n",
        "client = Client(processes=False)\n",
        "\n",
        "# Fit an Decision Tree Model\n",
        "final_tree = DecisionTreeClassifier()\n",
        "\n",
        "# When fitting, use dask joblib backend\n",
        "with joblib.parallel_backend('dask'):\n",
        "  final_tree.fit(final_features, train_y)"
      ]
    },
    {
      "cell_type": "code",
      "execution_count": null,
      "id": "1d13d30e-74ca-4036-9cc1-771a1019567e",
      "metadata": {
        "colab": {
          "base_uri": "https://localhost:8080/",
          "height": 460
        },
        "id": "1d13d30e-74ca-4036-9cc1-771a1019567e",
        "outputId": "73567480-3537-4d87-872b-7fc5f65eab0c",
        "tags": []
      },
      "outputs": [
        {
          "data": {
            "text/plain": [
              "[Text(0.5, 0.75, 'ENSG00000236675.1 <= 0.559\\ngini = 0.499\\nsamples = 831\\nvalue = [399, 432]'),\n",
              " Text(0.25, 0.25, 'gini = 0.0\\nsamples = 399\\nvalue = [399, 0]'),\n",
              " Text(0.75, 0.25, 'gini = 0.0\\nsamples = 432\\nvalue = [0, 432]')]"
            ]
          },
          "execution_count": 26,
          "metadata": {},
          "output_type": "execute_result"
        },
        {
          "data": {
            "image/png": "[encoded data removed]",
            "text/plain": [
              "<Figure size 640x480 with 1 Axes>"
            ]
          },
          "metadata": {},
          "output_type": "display_data"
        }
      ],
      "source": [
        "# Show new importance and tree\n",
        "tree.plot_tree(final_tree, feature_names=full_feature_array)"
      ]
    },
    {
      "cell_type": "code",
      "execution_count": null,
      "id": "c08449b8-aa06-48ec-b109-7e190505dadb",
      "metadata": {
        "colab": {
          "base_uri": "https://localhost:8080/",
          "height": 363
        },
        "id": "c08449b8-aa06-48ec-b109-7e190505dadb",
        "outputId": "a80ce81e-0c4d-49e5-cb2e-f40fe3e93b9d",
        "tags": []
      },
      "outputs": [
        {
          "ename": "KeyboardInterrupt",
          "evalue": "ignored",
          "output_type": "error",
          "traceback": [
            "\u001b[0;31m---------------------------------------------------------------------------\u001b[0m",
            "\u001b[0;31mKeyboardInterrupt\u001b[0m                         Traceback (most recent call last)",
            "\u001b[0;32m<ipython-input-17-029ac7574581>\u001b[0m in \u001b[0;36m<cell line: 9>\u001b[0;34m()\u001b[0m\n\u001b[1;32m      7\u001b[0m \u001b[0;34m\u001b[0m\u001b[0m\n\u001b[1;32m      8\u001b[0m \u001b[0;31m# Predict and Compare to Test Set\u001b[0m\u001b[0;34m\u001b[0m\u001b[0;34m\u001b[0m\u001b[0m\n\u001b[0;32m----> 9\u001b[0;31m \u001b[0mpred_y\u001b[0m \u001b[0;34m=\u001b[0m \u001b[0mfinal_tree\u001b[0m\u001b[0;34m.\u001b[0m\u001b[0mpredict\u001b[0m\u001b[0;34m(\u001b[0m\u001b[0mtest_features\u001b[0m\u001b[0;34m)\u001b[0m\u001b[0;34m\u001b[0m\u001b[0;34m\u001b[0m\u001b[0m\n\u001b[0m",
            "\u001b[0;32m/usr/local/lib/python3.10/dist-packages/sklearn/tree/_classes.py\u001b[0m in \u001b[0;36mpredict\u001b[0;34m(self, X, check_input)\u001b[0m\n\u001b[1;32m    424\u001b[0m         \"\"\"\n\u001b[1;32m    425\u001b[0m         \u001b[0mcheck_is_fitted\u001b[0m\u001b[0;34m(\u001b[0m\u001b[0mself\u001b[0m\u001b[0;34m)\u001b[0m\u001b[0;34m\u001b[0m\u001b[0;34m\u001b[0m\u001b[0m\n\u001b[0;32m--> 426\u001b[0;31m         \u001b[0mX\u001b[0m \u001b[0;34m=\u001b[0m \u001b[0mself\u001b[0m\u001b[0;34m.\u001b[0m\u001b[0m_validate_X_predict\u001b[0m\u001b[0;34m(\u001b[0m\u001b[0mX\u001b[0m\u001b[0;34m,\u001b[0m \u001b[0mcheck_input\u001b[0m\u001b[0;34m)\u001b[0m\u001b[0;34m\u001b[0m\u001b[0;34m\u001b[0m\u001b[0m\n\u001b[0m\u001b[1;32m    427\u001b[0m         \u001b[0mproba\u001b[0m \u001b[0;34m=\u001b[0m \u001b[0mself\u001b[0m\u001b[0;34m.\u001b[0m\u001b[0mtree_\u001b[0m\u001b[0;34m.\u001b[0m\u001b[0mpredict\u001b[0m\u001b[0;34m(\u001b[0m\u001b[0mX\u001b[0m\u001b[0;34m)\u001b[0m\u001b[0;34m\u001b[0m\u001b[0;34m\u001b[0m\u001b[0m\n\u001b[1;32m    428\u001b[0m         \u001b[0mn_samples\u001b[0m \u001b[0;34m=\u001b[0m \u001b[0mX\u001b[0m\u001b[0;34m.\u001b[0m\u001b[0mshape\u001b[0m\u001b[0;34m[\u001b[0m\u001b[0;36m0\u001b[0m\u001b[0;34m]\u001b[0m\u001b[0;34m\u001b[0m\u001b[0;34m\u001b[0m\u001b[0m\n",
            "\u001b[0;32m/usr/local/lib/python3.10/dist-packages/sklearn/tree/_classes.py\u001b[0m in \u001b[0;36m_validate_X_predict\u001b[0;34m(self, X, check_input)\u001b[0m\n\u001b[1;32m    390\u001b[0m         \u001b[0;34m\"\"\"Validate the training data on predict (probabilities).\"\"\"\u001b[0m\u001b[0;34m\u001b[0m\u001b[0;34m\u001b[0m\u001b[0m\n\u001b[1;32m    391\u001b[0m         \u001b[0;32mif\u001b[0m \u001b[0mcheck_input\u001b[0m\u001b[0;34m:\u001b[0m\u001b[0;34m\u001b[0m\u001b[0;34m\u001b[0m\u001b[0m\n\u001b[0;32m--> 392\u001b[0;31m             \u001b[0mX\u001b[0m \u001b[0;34m=\u001b[0m \u001b[0mself\u001b[0m\u001b[0;34m.\u001b[0m\u001b[0m_validate_data\u001b[0m\u001b[0;34m(\u001b[0m\u001b[0mX\u001b[0m\u001b[0;34m,\u001b[0m \u001b[0mdtype\u001b[0m\u001b[0;34m=\u001b[0m\u001b[0mDTYPE\u001b[0m\u001b[0;34m,\u001b[0m \u001b[0maccept_sparse\u001b[0m\u001b[0;34m=\u001b[0m\u001b[0;34m\"csr\"\u001b[0m\u001b[0;34m,\u001b[0m \u001b[0mreset\u001b[0m\u001b[0;34m=\u001b[0m\u001b[0;32mFalse\u001b[0m\u001b[0;34m)\u001b[0m\u001b[0;34m\u001b[0m\u001b[0;34m\u001b[0m\u001b[0m\n\u001b[0m\u001b[1;32m    393\u001b[0m             if issparse(X) and (\n\u001b[1;32m    394\u001b[0m                 \u001b[0mX\u001b[0m\u001b[0;34m.\u001b[0m\u001b[0mindices\u001b[0m\u001b[0;34m.\u001b[0m\u001b[0mdtype\u001b[0m \u001b[0;34m!=\u001b[0m \u001b[0mnp\u001b[0m\u001b[0;34m.\u001b[0m\u001b[0mintc\u001b[0m \u001b[0;32mor\u001b[0m \u001b[0mX\u001b[0m\u001b[0;34m.\u001b[0m\u001b[0mindptr\u001b[0m\u001b[0;34m.\u001b[0m\u001b[0mdtype\u001b[0m \u001b[0;34m!=\u001b[0m \u001b[0mnp\u001b[0m\u001b[0;34m.\u001b[0m\u001b[0mintc\u001b[0m\u001b[0;34m\u001b[0m\u001b[0;34m\u001b[0m\u001b[0m\n",
            "\u001b[0;32m/usr/local/lib/python3.10/dist-packages/sklearn/base.py\u001b[0m in \u001b[0;36m_validate_data\u001b[0;34m(self, X, y, reset, validate_separately, **check_params)\u001b[0m\n\u001b[1;32m    563\u001b[0m             \u001b[0;32mraise\u001b[0m \u001b[0mValueError\u001b[0m\u001b[0;34m(\u001b[0m\u001b[0;34m\"Validation should be done on X, y or both.\"\u001b[0m\u001b[0;34m)\u001b[0m\u001b[0;34m\u001b[0m\u001b[0;34m\u001b[0m\u001b[0m\n\u001b[1;32m    564\u001b[0m         \u001b[0;32melif\u001b[0m \u001b[0;32mnot\u001b[0m \u001b[0mno_val_X\u001b[0m \u001b[0;32mand\u001b[0m \u001b[0mno_val_y\u001b[0m\u001b[0;34m:\u001b[0m\u001b[0;34m\u001b[0m\u001b[0;34m\u001b[0m\u001b[0m\n\u001b[0;32m--> 565\u001b[0;31m             \u001b[0mX\u001b[0m \u001b[0;34m=\u001b[0m \u001b[0mcheck_array\u001b[0m\u001b[0;34m(\u001b[0m\u001b[0mX\u001b[0m\u001b[0;34m,\u001b[0m \u001b[0minput_name\u001b[0m\u001b[0;34m=\u001b[0m\u001b[0;34m\"X\"\u001b[0m\u001b[0;34m,\u001b[0m \u001b[0;34m**\u001b[0m\u001b[0mcheck_params\u001b[0m\u001b[0;34m)\u001b[0m\u001b[0;34m\u001b[0m\u001b[0;34m\u001b[0m\u001b[0m\n\u001b[0m\u001b[1;32m    566\u001b[0m             \u001b[0mout\u001b[0m \u001b[0;34m=\u001b[0m \u001b[0mX\u001b[0m\u001b[0;34m\u001b[0m\u001b[0;34m\u001b[0m\u001b[0m\n\u001b[1;32m    567\u001b[0m         \u001b[0;32melif\u001b[0m \u001b[0mno_val_X\u001b[0m \u001b[0;32mand\u001b[0m \u001b[0;32mnot\u001b[0m \u001b[0mno_val_y\u001b[0m\u001b[0;34m:\u001b[0m\u001b[0;34m\u001b[0m\u001b[0;34m\u001b[0m\u001b[0m\n",
            "\u001b[0;32m/usr/local/lib/python3.10/dist-packages/sklearn/utils/validation.py\u001b[0m in \u001b[0;36mcheck_array\u001b[0;34m(array, accept_sparse, accept_large_sparse, dtype, order, copy, force_all_finite, ensure_2d, allow_nd, ensure_min_samples, ensure_min_features, estimator, input_name)\u001b[0m\n\u001b[1;32m    877\u001b[0m                     \u001b[0marray\u001b[0m \u001b[0;34m=\u001b[0m \u001b[0mxp\u001b[0m\u001b[0;34m.\u001b[0m\u001b[0mastype\u001b[0m\u001b[0;34m(\u001b[0m\u001b[0marray\u001b[0m\u001b[0;34m,\u001b[0m \u001b[0mdtype\u001b[0m\u001b[0;34m,\u001b[0m \u001b[0mcopy\u001b[0m\u001b[0;34m=\u001b[0m\u001b[0;32mFalse\u001b[0m\u001b[0;34m)\u001b[0m\u001b[0;34m\u001b[0m\u001b[0;34m\u001b[0m\u001b[0m\n\u001b[1;32m    878\u001b[0m                 \u001b[0;32melse\u001b[0m\u001b[0;34m:\u001b[0m\u001b[0;34m\u001b[0m\u001b[0;34m\u001b[0m\u001b[0m\n\u001b[0;32m--> 879\u001b[0;31m                     \u001b[0marray\u001b[0m \u001b[0;34m=\u001b[0m \u001b[0m_asarray_with_order\u001b[0m\u001b[0;34m(\u001b[0m\u001b[0marray\u001b[0m\u001b[0;34m,\u001b[0m \u001b[0morder\u001b[0m\u001b[0;34m=\u001b[0m\u001b[0morder\u001b[0m\u001b[0;34m,\u001b[0m \u001b[0mdtype\u001b[0m\u001b[0;34m=\u001b[0m\u001b[0mdtype\u001b[0m\u001b[0;34m,\u001b[0m \u001b[0mxp\u001b[0m\u001b[0;34m=\u001b[0m\u001b[0mxp\u001b[0m\u001b[0;34m)\u001b[0m\u001b[0;34m\u001b[0m\u001b[0;34m\u001b[0m\u001b[0m\n\u001b[0m\u001b[1;32m    880\u001b[0m             \u001b[0;32mexcept\u001b[0m \u001b[0mComplexWarning\u001b[0m \u001b[0;32mas\u001b[0m \u001b[0mcomplex_warning\u001b[0m\u001b[0;34m:\u001b[0m\u001b[0;34m\u001b[0m\u001b[0;34m\u001b[0m\u001b[0m\n\u001b[1;32m    881\u001b[0m                 raise ValueError(\n",
            "\u001b[0;32m/usr/local/lib/python3.10/dist-packages/sklearn/utils/_array_api.py\u001b[0m in \u001b[0;36m_asarray_with_order\u001b[0;34m(array, dtype, order, copy, xp)\u001b[0m\n\u001b[1;32m    183\u001b[0m     \u001b[0;32mif\u001b[0m \u001b[0mxp\u001b[0m\u001b[0;34m.\u001b[0m\u001b[0m__name__\u001b[0m \u001b[0;32min\u001b[0m \u001b[0;34m{\u001b[0m\u001b[0;34m\"numpy\"\u001b[0m\u001b[0;34m,\u001b[0m \u001b[0;34m\"numpy.array_api\"\u001b[0m\u001b[0;34m}\u001b[0m\u001b[0;34m:\u001b[0m\u001b[0;34m\u001b[0m\u001b[0;34m\u001b[0m\u001b[0m\n\u001b[1;32m    184\u001b[0m         \u001b[0;31m# Use NumPy API to support order\u001b[0m\u001b[0;34m\u001b[0m\u001b[0;34m\u001b[0m\u001b[0m\n\u001b[0;32m--> 185\u001b[0;31m         \u001b[0marray\u001b[0m \u001b[0;34m=\u001b[0m \u001b[0mnumpy\u001b[0m\u001b[0;34m.\u001b[0m\u001b[0masarray\u001b[0m\u001b[0;34m(\u001b[0m\u001b[0marray\u001b[0m\u001b[0;34m,\u001b[0m \u001b[0morder\u001b[0m\u001b[0;34m=\u001b[0m\u001b[0morder\u001b[0m\u001b[0;34m,\u001b[0m \u001b[0mdtype\u001b[0m\u001b[0;34m=\u001b[0m\u001b[0mdtype\u001b[0m\u001b[0;34m)\u001b[0m\u001b[0;34m\u001b[0m\u001b[0;34m\u001b[0m\u001b[0m\n\u001b[0m\u001b[1;32m    186\u001b[0m         \u001b[0;32mreturn\u001b[0m \u001b[0mxp\u001b[0m\u001b[0;34m.\u001b[0m\u001b[0masarray\u001b[0m\u001b[0;34m(\u001b[0m\u001b[0marray\u001b[0m\u001b[0;34m,\u001b[0m \u001b[0mcopy\u001b[0m\u001b[0;34m=\u001b[0m\u001b[0mcopy\u001b[0m\u001b[0;34m)\u001b[0m\u001b[0;34m\u001b[0m\u001b[0;34m\u001b[0m\u001b[0m\n\u001b[1;32m    187\u001b[0m     \u001b[0;32melse\u001b[0m\u001b[0;34m:\u001b[0m\u001b[0;34m\u001b[0m\u001b[0;34m\u001b[0m\u001b[0m\n",
            "\u001b[0;32m/usr/local/lib/python3.10/dist-packages/dask/dataframe/core.py\u001b[0m in \u001b[0;36m__array__\u001b[0;34m(self, dtype, **kwargs)\u001b[0m\n\u001b[1;32m    600\u001b[0m \u001b[0;34m\u001b[0m\u001b[0m\n\u001b[1;32m    601\u001b[0m     \u001b[0;32mdef\u001b[0m \u001b[0m__array__\u001b[0m\u001b[0;34m(\u001b[0m\u001b[0mself\u001b[0m\u001b[0;34m,\u001b[0m \u001b[0mdtype\u001b[0m\u001b[0;34m=\u001b[0m\u001b[0;32mNone\u001b[0m\u001b[0;34m,\u001b[0m \u001b[0;34m**\u001b[0m\u001b[0mkwargs\u001b[0m\u001b[0;34m)\u001b[0m\u001b[0;34m:\u001b[0m\u001b[0;34m\u001b[0m\u001b[0;34m\u001b[0m\u001b[0m\n\u001b[0;32m--> 602\u001b[0;31m         \u001b[0mself\u001b[0m\u001b[0;34m.\u001b[0m\u001b[0m_computed\u001b[0m \u001b[0;34m=\u001b[0m \u001b[0mself\u001b[0m\u001b[0;34m.\u001b[0m\u001b[0mcompute\u001b[0m\u001b[0;34m(\u001b[0m\u001b[0;34m)\u001b[0m\u001b[0;34m\u001b[0m\u001b[0;34m\u001b[0m\u001b[0m\n\u001b[0m\u001b[1;32m    603\u001b[0m         \u001b[0mx\u001b[0m \u001b[0;34m=\u001b[0m \u001b[0mnp\u001b[0m\u001b[0;34m.\u001b[0m\u001b[0marray\u001b[0m\u001b[0;34m(\u001b[0m\u001b[0mself\u001b[0m\u001b[0;34m.\u001b[0m\u001b[0m_computed\u001b[0m\u001b[0;34m)\u001b[0m\u001b[0;34m\u001b[0m\u001b[0;34m\u001b[0m\u001b[0m\n\u001b[1;32m    604\u001b[0m         \u001b[0;32mreturn\u001b[0m \u001b[0mx\u001b[0m\u001b[0;34m\u001b[0m\u001b[0;34m\u001b[0m\u001b[0m\n",
            "\u001b[0;32m/usr/local/lib/python3.10/dist-packages/dask/base.py\u001b[0m in \u001b[0;36mcompute\u001b[0;34m(self, **kwargs)\u001b[0m\n\u001b[1;32m    379\u001b[0m         \u001b[0mdask\u001b[0m\u001b[0;34m.\u001b[0m\u001b[0mcompute\u001b[0m\u001b[0;34m\u001b[0m\u001b[0;34m\u001b[0m\u001b[0m\n\u001b[1;32m    380\u001b[0m         \"\"\"\n\u001b[0;32m--> 381\u001b[0;31m         \u001b[0;34m(\u001b[0m\u001b[0mresult\u001b[0m\u001b[0;34m,\u001b[0m\u001b[0;34m)\u001b[0m \u001b[0;34m=\u001b[0m \u001b[0mcompute\u001b[0m\u001b[0;34m(\u001b[0m\u001b[0mself\u001b[0m\u001b[0;34m,\u001b[0m \u001b[0mtraverse\u001b[0m\u001b[0;34m=\u001b[0m\u001b[0;32mFalse\u001b[0m\u001b[0;34m,\u001b[0m \u001b[0;34m**\u001b[0m\u001b[0mkwargs\u001b[0m\u001b[0;34m)\u001b[0m\u001b[0;34m\u001b[0m\u001b[0;34m\u001b[0m\u001b[0m\n\u001b[0m\u001b[1;32m    382\u001b[0m         \u001b[0;32mreturn\u001b[0m \u001b[0mresult\u001b[0m\u001b[0;34m\u001b[0m\u001b[0;34m\u001b[0m\u001b[0m\n\u001b[1;32m    383\u001b[0m \u001b[0;34m\u001b[0m\u001b[0m\n",
            "\u001b[0;32m/usr/local/lib/python3.10/dist-packages/dask/base.py\u001b[0m in \u001b[0;36mcompute\u001b[0;34m(traverse, optimize_graph, scheduler, get, *args, **kwargs)\u001b[0m\n\u001b[1;32m    664\u001b[0m         \u001b[0mpostcomputes\u001b[0m\u001b[0;34m.\u001b[0m\u001b[0mappend\u001b[0m\u001b[0;34m(\u001b[0m\u001b[0mx\u001b[0m\u001b[0;34m.\u001b[0m\u001b[0m__dask_postcompute__\u001b[0m\u001b[0;34m(\u001b[0m\u001b[0;34m)\u001b[0m\u001b[0;34m)\u001b[0m\u001b[0;34m\u001b[0m\u001b[0;34m\u001b[0m\u001b[0m\n\u001b[1;32m    665\u001b[0m \u001b[0;34m\u001b[0m\u001b[0m\n\u001b[0;32m--> 666\u001b[0;31m     \u001b[0mresults\u001b[0m \u001b[0;34m=\u001b[0m \u001b[0mschedule\u001b[0m\u001b[0;34m(\u001b[0m\u001b[0mdsk\u001b[0m\u001b[0;34m,\u001b[0m \u001b[0mkeys\u001b[0m\u001b[0;34m,\u001b[0m \u001b[0;34m**\u001b[0m\u001b[0mkwargs\u001b[0m\u001b[0;34m)\u001b[0m\u001b[0;34m\u001b[0m\u001b[0;34m\u001b[0m\u001b[0m\n\u001b[0m\u001b[1;32m    667\u001b[0m     \u001b[0;32mreturn\u001b[0m \u001b[0mrepack\u001b[0m\u001b[0;34m(\u001b[0m\u001b[0;34m[\u001b[0m\u001b[0mf\u001b[0m\u001b[0;34m(\u001b[0m\u001b[0mr\u001b[0m\u001b[0;34m,\u001b[0m \u001b[0;34m*\u001b[0m\u001b[0ma\u001b[0m\u001b[0;34m)\u001b[0m \u001b[0;32mfor\u001b[0m \u001b[0mr\u001b[0m\u001b[0;34m,\u001b[0m \u001b[0;34m(\u001b[0m\u001b[0mf\u001b[0m\u001b[0;34m,\u001b[0m \u001b[0ma\u001b[0m\u001b[0;34m)\u001b[0m \u001b[0;32min\u001b[0m \u001b[0mzip\u001b[0m\u001b[0;34m(\u001b[0m\u001b[0mresults\u001b[0m\u001b[0;34m,\u001b[0m \u001b[0mpostcomputes\u001b[0m\u001b[0;34m)\u001b[0m\u001b[0;34m]\u001b[0m\u001b[0;34m)\u001b[0m\u001b[0;34m\u001b[0m\u001b[0;34m\u001b[0m\u001b[0m\n\u001b[1;32m    668\u001b[0m \u001b[0;34m\u001b[0m\u001b[0m\n",
            "\u001b[0;32m/usr/local/lib/python3.10/dist-packages/distributed/client.py\u001b[0m in \u001b[0;36mget\u001b[0;34m(self, dsk, keys, workers, allow_other_workers, resources, sync, asynchronous, direct, retries, priority, fifo_timeout, actors, **kwargs)\u001b[0m\n\u001b[1;32m   3276\u001b[0m                     \u001b[0mshould_rejoin\u001b[0m \u001b[0;34m=\u001b[0m \u001b[0;32mFalse\u001b[0m\u001b[0;34m\u001b[0m\u001b[0;34m\u001b[0m\u001b[0m\n\u001b[1;32m   3277\u001b[0m             \u001b[0;32mtry\u001b[0m\u001b[0;34m:\u001b[0m\u001b[0;34m\u001b[0m\u001b[0;34m\u001b[0m\u001b[0m\n\u001b[0;32m-> 3278\u001b[0;31m                 \u001b[0mresults\u001b[0m \u001b[0;34m=\u001b[0m \u001b[0mself\u001b[0m\u001b[0;34m.\u001b[0m\u001b[0mgather\u001b[0m\u001b[0;34m(\u001b[0m\u001b[0mpacked\u001b[0m\u001b[0;34m,\u001b[0m \u001b[0masynchronous\u001b[0m\u001b[0;34m=\u001b[0m\u001b[0masynchronous\u001b[0m\u001b[0;34m,\u001b[0m \u001b[0mdirect\u001b[0m\u001b[0;34m=\u001b[0m\u001b[0mdirect\u001b[0m\u001b[0;34m)\u001b[0m\u001b[0;34m\u001b[0m\u001b[0;34m\u001b[0m\u001b[0m\n\u001b[0m\u001b[1;32m   3279\u001b[0m             \u001b[0;32mfinally\u001b[0m\u001b[0;34m:\u001b[0m\u001b[0;34m\u001b[0m\u001b[0;34m\u001b[0m\u001b[0m\n\u001b[1;32m   3280\u001b[0m                 \u001b[0;32mfor\u001b[0m \u001b[0mf\u001b[0m \u001b[0;32min\u001b[0m \u001b[0mfutures\u001b[0m\u001b[0;34m.\u001b[0m\u001b[0mvalues\u001b[0m\u001b[0;34m(\u001b[0m\u001b[0;34m)\u001b[0m\u001b[0;34m:\u001b[0m\u001b[0;34m\u001b[0m\u001b[0;34m\u001b[0m\u001b[0m\n",
            "\u001b[0;32m/usr/local/lib/python3.10/dist-packages/distributed/client.py\u001b[0m in \u001b[0;36mgather\u001b[0;34m(self, futures, errors, direct, asynchronous)\u001b[0m\n\u001b[1;32m   2401\u001b[0m             \u001b[0;32mexcept\u001b[0m \u001b[0mValueError\u001b[0m\u001b[0;34m:\u001b[0m\u001b[0;34m\u001b[0m\u001b[0;34m\u001b[0m\u001b[0m\n\u001b[1;32m   2402\u001b[0m                 \u001b[0mlocal_worker\u001b[0m \u001b[0;34m=\u001b[0m \u001b[0;32mNone\u001b[0m\u001b[0;34m\u001b[0m\u001b[0;34m\u001b[0m\u001b[0m\n\u001b[0;32m-> 2403\u001b[0;31m             return self.sync(\n\u001b[0m\u001b[1;32m   2404\u001b[0m                 \u001b[0mself\u001b[0m\u001b[0;34m.\u001b[0m\u001b[0m_gather\u001b[0m\u001b[0;34m,\u001b[0m\u001b[0;34m\u001b[0m\u001b[0;34m\u001b[0m\u001b[0m\n\u001b[1;32m   2405\u001b[0m                 \u001b[0mfutures\u001b[0m\u001b[0;34m,\u001b[0m\u001b[0;34m\u001b[0m\u001b[0;34m\u001b[0m\u001b[0m\n",
            "\u001b[0;32m/usr/local/lib/python3.10/dist-packages/distributed/utils.py\u001b[0m in \u001b[0;36msync\u001b[0;34m(self, func, asynchronous, callback_timeout, *args, **kwargs)\u001b[0m\n\u001b[1;32m    357\u001b[0m             \u001b[0;32mreturn\u001b[0m \u001b[0mfuture\u001b[0m\u001b[0;34m\u001b[0m\u001b[0;34m\u001b[0m\u001b[0m\n\u001b[1;32m    358\u001b[0m         \u001b[0;32melse\u001b[0m\u001b[0;34m:\u001b[0m\u001b[0;34m\u001b[0m\u001b[0;34m\u001b[0m\u001b[0m\n\u001b[0;32m--> 359\u001b[0;31m             return sync(\n\u001b[0m\u001b[1;32m    360\u001b[0m                 \u001b[0mself\u001b[0m\u001b[0;34m.\u001b[0m\u001b[0mloop\u001b[0m\u001b[0;34m,\u001b[0m \u001b[0mfunc\u001b[0m\u001b[0;34m,\u001b[0m \u001b[0;34m*\u001b[0m\u001b[0margs\u001b[0m\u001b[0;34m,\u001b[0m \u001b[0mcallback_timeout\u001b[0m\u001b[0;34m=\u001b[0m\u001b[0mcallback_timeout\u001b[0m\u001b[0;34m,\u001b[0m \u001b[0;34m**\u001b[0m\u001b[0mkwargs\u001b[0m\u001b[0;34m\u001b[0m\u001b[0;34m\u001b[0m\u001b[0m\n\u001b[1;32m    361\u001b[0m             )\n",
            "\u001b[0;32m/usr/local/lib/python3.10/dist-packages/distributed/utils.py\u001b[0m in \u001b[0;36msync\u001b[0;34m(loop, func, callback_timeout, *args, **kwargs)\u001b[0m\n\u001b[1;32m    420\u001b[0m     \u001b[0;32melse\u001b[0m\u001b[0;34m:\u001b[0m\u001b[0;34m\u001b[0m\u001b[0;34m\u001b[0m\u001b[0m\n\u001b[1;32m    421\u001b[0m         \u001b[0;32mwhile\u001b[0m \u001b[0;32mnot\u001b[0m \u001b[0me\u001b[0m\u001b[0;34m.\u001b[0m\u001b[0mis_set\u001b[0m\u001b[0;34m(\u001b[0m\u001b[0;34m)\u001b[0m\u001b[0;34m:\u001b[0m\u001b[0;34m\u001b[0m\u001b[0;34m\u001b[0m\u001b[0m\n\u001b[0;32m--> 422\u001b[0;31m             \u001b[0mwait\u001b[0m\u001b[0;34m(\u001b[0m\u001b[0;36m10\u001b[0m\u001b[0;34m)\u001b[0m\u001b[0;34m\u001b[0m\u001b[0;34m\u001b[0m\u001b[0m\n\u001b[0m\u001b[1;32m    423\u001b[0m \u001b[0;34m\u001b[0m\u001b[0m\n\u001b[1;32m    424\u001b[0m     \u001b[0;32mif\u001b[0m \u001b[0merror\u001b[0m\u001b[0;34m:\u001b[0m\u001b[0;34m\u001b[0m\u001b[0;34m\u001b[0m\u001b[0m\n",
            "\u001b[0;32m/usr/local/lib/python3.10/dist-packages/distributed/utils.py\u001b[0m in \u001b[0;36mwait\u001b[0;34m(timeout)\u001b[0m\n\u001b[1;32m    409\u001b[0m     \u001b[0;32mdef\u001b[0m \u001b[0mwait\u001b[0m\u001b[0;34m(\u001b[0m\u001b[0mtimeout\u001b[0m\u001b[0;34m)\u001b[0m\u001b[0;34m:\u001b[0m\u001b[0;34m\u001b[0m\u001b[0;34m\u001b[0m\u001b[0m\n\u001b[1;32m    410\u001b[0m         \u001b[0;32mtry\u001b[0m\u001b[0;34m:\u001b[0m\u001b[0;34m\u001b[0m\u001b[0;34m\u001b[0m\u001b[0m\n\u001b[0;32m--> 411\u001b[0;31m             \u001b[0;32mreturn\u001b[0m \u001b[0me\u001b[0m\u001b[0;34m.\u001b[0m\u001b[0mwait\u001b[0m\u001b[0;34m(\u001b[0m\u001b[0mtimeout\u001b[0m\u001b[0;34m)\u001b[0m\u001b[0;34m\u001b[0m\u001b[0;34m\u001b[0m\u001b[0m\n\u001b[0m\u001b[1;32m    412\u001b[0m         \u001b[0;32mexcept\u001b[0m \u001b[0mKeyboardInterrupt\u001b[0m\u001b[0;34m:\u001b[0m\u001b[0;34m\u001b[0m\u001b[0;34m\u001b[0m\u001b[0m\n\u001b[1;32m    413\u001b[0m             \u001b[0mloop\u001b[0m\u001b[0;34m.\u001b[0m\u001b[0madd_callback\u001b[0m\u001b[0;34m(\u001b[0m\u001b[0mcancel\u001b[0m\u001b[0;34m)\u001b[0m\u001b[0;34m\u001b[0m\u001b[0;34m\u001b[0m\u001b[0m\n",
            "\u001b[0;32m/usr/lib/python3.10/threading.py\u001b[0m in \u001b[0;36mwait\u001b[0;34m(self, timeout)\u001b[0m\n\u001b[1;32m    605\u001b[0m             \u001b[0msignaled\u001b[0m \u001b[0;34m=\u001b[0m \u001b[0mself\u001b[0m\u001b[0;34m.\u001b[0m\u001b[0m_flag\u001b[0m\u001b[0;34m\u001b[0m\u001b[0;34m\u001b[0m\u001b[0m\n\u001b[1;32m    606\u001b[0m             \u001b[0;32mif\u001b[0m \u001b[0;32mnot\u001b[0m \u001b[0msignaled\u001b[0m\u001b[0;34m:\u001b[0m\u001b[0;34m\u001b[0m\u001b[0;34m\u001b[0m\u001b[0m\n\u001b[0;32m--> 607\u001b[0;31m                 \u001b[0msignaled\u001b[0m \u001b[0;34m=\u001b[0m \u001b[0mself\u001b[0m\u001b[0;34m.\u001b[0m\u001b[0m_cond\u001b[0m\u001b[0;34m.\u001b[0m\u001b[0mwait\u001b[0m\u001b[0;34m(\u001b[0m\u001b[0mtimeout\u001b[0m\u001b[0;34m)\u001b[0m\u001b[0;34m\u001b[0m\u001b[0;34m\u001b[0m\u001b[0m\n\u001b[0m\u001b[1;32m    608\u001b[0m             \u001b[0;32mreturn\u001b[0m \u001b[0msignaled\u001b[0m\u001b[0;34m\u001b[0m\u001b[0;34m\u001b[0m\u001b[0m\n\u001b[1;32m    609\u001b[0m \u001b[0;34m\u001b[0m\u001b[0m\n",
            "\u001b[0;32m/usr/lib/python3.10/threading.py\u001b[0m in \u001b[0;36mwait\u001b[0;34m(self, timeout)\u001b[0m\n\u001b[1;32m    322\u001b[0m             \u001b[0;32melse\u001b[0m\u001b[0;34m:\u001b[0m\u001b[0;34m\u001b[0m\u001b[0;34m\u001b[0m\u001b[0m\n\u001b[1;32m    323\u001b[0m                 \u001b[0;32mif\u001b[0m \u001b[0mtimeout\u001b[0m \u001b[0;34m>\u001b[0m \u001b[0;36m0\u001b[0m\u001b[0;34m:\u001b[0m\u001b[0;34m\u001b[0m\u001b[0;34m\u001b[0m\u001b[0m\n\u001b[0;32m--> 324\u001b[0;31m                     \u001b[0mgotit\u001b[0m \u001b[0;34m=\u001b[0m \u001b[0mwaiter\u001b[0m\u001b[0;34m.\u001b[0m\u001b[0macquire\u001b[0m\u001b[0;34m(\u001b[0m\u001b[0;32mTrue\u001b[0m\u001b[0;34m,\u001b[0m \u001b[0mtimeout\u001b[0m\u001b[0;34m)\u001b[0m\u001b[0;34m\u001b[0m\u001b[0;34m\u001b[0m\u001b[0m\n\u001b[0m\u001b[1;32m    325\u001b[0m                 \u001b[0;32melse\u001b[0m\u001b[0;34m:\u001b[0m\u001b[0;34m\u001b[0m\u001b[0;34m\u001b[0m\u001b[0m\n\u001b[1;32m    326\u001b[0m                     \u001b[0mgotit\u001b[0m \u001b[0;34m=\u001b[0m \u001b[0mwaiter\u001b[0m\u001b[0;34m.\u001b[0m\u001b[0macquire\u001b[0m\u001b[0;34m(\u001b[0m\u001b[0;32mFalse\u001b[0m\u001b[0;34m)\u001b[0m\u001b[0;34m\u001b[0m\u001b[0;34m\u001b[0m\u001b[0m\n",
            "\u001b[0;31mKeyboardInterrupt\u001b[0m: "
          ]
        }
      ],
      "source": [
        "# Filter out index and cancer columns and save dask array for test data\n",
        "test_y = test[['cancer']].to_dask_array().compute()\n",
        "columns_to_exclude = ['index', 'cancer']\n",
        "\n",
        "# Exclude the specified columns\n",
        "test_features = test.drop(columns=columns_to_exclude)\n",
        "\n",
        "# Predict and Compare to Test Set\n",
        "pred_y = final_tree.predict(test_features)"
      ]
    },
    {
      "cell_type": "code",
      "execution_count": null,
      "id": "0f114dae-b3a9-4f57-a2a2-ec57f78c82fb",
      "metadata": {
        "id": "0f114dae-b3a9-4f57-a2a2-ec57f78c82fb",
        "outputId": "676a41b5-e315-421a-e274-0c935f13a5fa",
        "tags": []
      },
      "outputs": [
        {
          "name": "stdout",
          "output_type": "stream",
          "text": [
            "Predicted was: 1 and Test was: [0]\n",
            "Predicted was: 1 and Test was: [0]\n",
            "The predictive accuracy is: 99.11504424778761%\n"
          ]
        }
      ],
      "source": [
        "correct = 0\n",
        "for i in range(0, len(pred_y)):\n",
        "    if pred_y[i] == test_y[i][0]:\n",
        "        correct += 1\n",
        "    else:\n",
        "        print(\"Predicted was: \" + str(pred_y[i]) + \" and Test was: \" + str(test_y[i]))\n",
        "\n",
        "accuracy = correct/len(pred_y)\n",
        "print(\"The predictive accuracy is: \" + str(100 * accuracy) + \"%\")"
      ]
    },
    {
      "cell_type": "code",
      "execution_count": null,
      "id": "9c24d428-9c1c-4e0c-9985-e4ffa6e37c2c",
      "metadata": {
        "id": "9c24d428-9c1c-4e0c-9985-e4ffa6e37c2c",
        "outputId": "ad7ca39e-530a-4e47-aec8-f94caecce288",
        "tags": []
      },
      "outputs": [
        {
          "name": "stderr",
          "output_type": "stream",
          "text": [
            "C:\\Users\\andre\\anaconda3\\envs\\gpu_env\\lib\\site-packages\\distributed\\node.py:182: UserWarning: Port 8787 is already in use.\n",
            "Perhaps you already have a cluster running?\n",
            "Hosting the HTTP server on port 64236 instead\n",
            "  warnings.warn(\n"
          ]
        }
      ],
      "source": [
        "# Perform ML with Random Forest Classifier\n",
        "from sklearn import datasets\n",
        "from sklearn import metrics\n",
        "from sklearn.ensemble import RandomForestClassifier\n",
        "from sklearn import tree\n",
        "\n",
        "# Dask\n",
        "from dask.distributed import Client\n",
        "# import dask.dataframe as dd\n",
        "import joblib\n",
        "\n",
        "# Create Local Dask Client\n",
        "client = Client(processes=False)\n",
        "\n",
        "# Fit an Decision Tree Model\n",
        "forest_model = RandomForestClassifier()\n",
        "\n",
        "# When fitting, use dask joblib backend\n",
        "with joblib.parallel_backend('dask'):\n",
        "  forest_model.fit(final_features, train_y.ravel())"
      ]
    },
    {
      "cell_type": "code",
      "execution_count": null,
      "id": "eab0dd4b-e872-4e41-8e45-b78bea876a7f",
      "metadata": {
        "id": "eab0dd4b-e872-4e41-8e45-b78bea876a7f",
        "tags": []
      },
      "outputs": [],
      "source": [
        "# Filter out index and cancer columns and save dask array for test data\n",
        "test_y_2 = test[['cancer']].to_dask_array().compute()\n",
        "columns_to_exclude = ['index', 'cancer']\n",
        "\n",
        "# Exclude the specified columns\n",
        "test_features_2 = test.drop(columns=columns_to_exclude)\n",
        "\n",
        "# Predict and Compare to Test Set\n",
        "pred_y_2 = forest_model.predict(test_features_2)"
      ]
    },
    {
      "cell_type": "code",
      "execution_count": null,
      "id": "bfdd4711-494b-4f36-b775-e3238b7ffb2b",
      "metadata": {
        "id": "bfdd4711-494b-4f36-b775-e3238b7ffb2b",
        "outputId": "b817d056-6944-462c-d1aa-8d69343765cd",
        "tags": []
      },
      "outputs": [
        {
          "name": "stdout",
          "output_type": "stream",
          "text": [
            "The predictive accuracy is: 100.0%\n"
          ]
        }
      ],
      "source": [
        "correct = 0\n",
        "for i in range(0, len(pred_y_2)):\n",
        "    if pred_y_2[i] == test_y[i][0]:\n",
        "        correct += 1\n",
        "    else:\n",
        "        print(\"Predicted was: \" + str(pred_y_2[i]) + \" and Test was: \" + str(test_y[i]))\n",
        "\n",
        "accuracy = correct/len(pred_y)\n",
        "print(\"The predictive accuracy is: \" + str(100 * accuracy) + \"%\")"
      ]
    },
    {
      "cell_type": "code",
      "execution_count": null,
      "id": "8132422b-12a4-49bf-8e61-a401e5516091",
      "metadata": {
        "collapsed": true,
        "id": "8132422b-12a4-49bf-8e61-a401e5516091",
        "jupyter": {
          "outputs_hidden": true
        },
        "outputId": "2697b808-dac0-481f-a1b0-93263ea74a9b",
        "tags": []
      },
      "outputs": [
        {
          "name": "stdout",
          "output_type": "stream",
          "text": [
            "[0.00000000e+00 0.00000000e+00 0.00000000e+00 0.00000000e+00\n",
            " 0.00000000e+00 0.00000000e+00 9.14201672e-03 0.00000000e+00\n",
            " 0.00000000e+00 0.00000000e+00 0.00000000e+00 4.00000000e-02\n",
            " 1.44391096e-04 0.00000000e+00 2.00000000e-02 0.00000000e+00\n",
            " 0.00000000e+00 0.00000000e+00 0.00000000e+00 0.00000000e+00\n",
            " 0.00000000e+00 0.00000000e+00 0.00000000e+00 0.00000000e+00\n",
            " 4.84725576e-05 0.00000000e+00 0.00000000e+00 0.00000000e+00\n",
            " 0.00000000e+00 2.00000000e-02 0.00000000e+00 0.00000000e+00\n",
            " 0.00000000e+00 0.00000000e+00 0.00000000e+00 0.00000000e+00\n",
            " 0.00000000e+00 0.00000000e+00 0.00000000e+00 0.00000000e+00\n",
            " 0.00000000e+00 0.00000000e+00 0.00000000e+00 0.00000000e+00\n",
            " 0.00000000e+00 0.00000000e+00 9.85560890e-03 0.00000000e+00\n",
            " 0.00000000e+00 0.00000000e+00 0.00000000e+00 0.00000000e+00\n",
            " 0.00000000e+00 0.00000000e+00 0.00000000e+00 0.00000000e+00\n",
            " 0.00000000e+00 0.00000000e+00 0.00000000e+00 0.00000000e+00\n",
            " 0.00000000e+00 0.00000000e+00 0.00000000e+00 0.00000000e+00\n",
            " 0.00000000e+00 0.00000000e+00 0.00000000e+00 0.00000000e+00\n",
            " 5.00000000e-02 0.00000000e+00 1.00000000e-02 0.00000000e+00\n",
            " 0.00000000e+00 0.00000000e+00 0.00000000e+00 0.00000000e+00\n",
            " 0.00000000e+00 0.00000000e+00 0.00000000e+00 0.00000000e+00\n",
            " 0.00000000e+00 0.00000000e+00 0.00000000e+00 0.00000000e+00\n",
            " 0.00000000e+00 0.00000000e+00 0.00000000e+00 0.00000000e+00\n",
            " 0.00000000e+00 0.00000000e+00 0.00000000e+00 0.00000000e+00\n",
            " 0.00000000e+00 0.00000000e+00 0.00000000e+00 4.74785166e-04\n",
            " 3.83198110e-04 0.00000000e+00 0.00000000e+00 0.00000000e+00\n",
            " 0.00000000e+00 0.00000000e+00 0.00000000e+00 0.00000000e+00\n",
            " 0.00000000e+00 9.95144063e-03 0.00000000e+00 0.00000000e+00\n",
            " 0.00000000e+00 0.00000000e+00 1.01441570e-02 0.00000000e+00\n",
            " 0.00000000e+00 0.00000000e+00 0.00000000e+00 0.00000000e+00\n",
            " 2.00000000e-02 0.00000000e+00 0.00000000e+00 0.00000000e+00\n",
            " 0.00000000e+00 0.00000000e+00 0.00000000e+00 0.00000000e+00\n",
            " 0.00000000e+00 0.00000000e+00 0.00000000e+00 0.00000000e+00\n",
            " 0.00000000e+00 0.00000000e+00 4.01446429e-02 0.00000000e+00\n",
            " 0.00000000e+00 2.86865902e-04 0.00000000e+00 9.95158647e-03\n",
            " 0.00000000e+00 0.00000000e+00 0.00000000e+00 9.95152744e-03\n",
            " 0.00000000e+00 0.00000000e+00 0.00000000e+00 0.00000000e+00\n",
            " 0.00000000e+00 0.00000000e+00 0.00000000e+00 0.00000000e+00\n",
            " 0.00000000e+00 0.00000000e+00 0.00000000e+00 0.00000000e+00\n",
            " 0.00000000e+00 0.00000000e+00 0.00000000e+00 0.00000000e+00\n",
            " 0.00000000e+00 0.00000000e+00 9.56879171e-03 0.00000000e+00\n",
            " 0.00000000e+00 0.00000000e+00 4.86393338e-05 0.00000000e+00\n",
            " 0.00000000e+00 0.00000000e+00 0.00000000e+00 0.00000000e+00\n",
            " 0.00000000e+00 9.80720813e-03 0.00000000e+00 0.00000000e+00\n",
            " 0.00000000e+00 0.00000000e+00 0.00000000e+00 0.00000000e+00\n",
            " 0.00000000e+00 0.00000000e+00 0.00000000e+00 0.00000000e+00\n",
            " 0.00000000e+00 0.00000000e+00 0.00000000e+00 1.00000000e-02\n",
            " 0.00000000e+00 0.00000000e+00 0.00000000e+00 0.00000000e+00\n",
            " 0.00000000e+00 0.00000000e+00 9.64825293e-05 0.00000000e+00\n",
            " 0.00000000e+00 0.00000000e+00 0.00000000e+00 0.00000000e+00\n",
            " 0.00000000e+00 0.00000000e+00 2.00000000e-02 0.00000000e+00\n",
            " 1.98072483e-02 0.00000000e+00 0.00000000e+00 0.00000000e+00\n",
            " 0.00000000e+00 0.00000000e+00 0.00000000e+00 0.00000000e+00\n",
            " 1.97593604e-02 0.00000000e+00 0.00000000e+00 1.99516578e-02\n",
            " 0.00000000e+00 0.00000000e+00 0.00000000e+00 0.00000000e+00\n",
            " 9.90280308e-03 9.71969207e-05 0.00000000e+00 0.00000000e+00\n",
            " 0.00000000e+00 0.00000000e+00 0.00000000e+00 1.99037073e-02\n",
            " 0.00000000e+00 0.00000000e+00 0.00000000e+00 1.45135632e-04\n",
            " 0.00000000e+00 0.00000000e+00 0.00000000e+00 0.00000000e+00\n",
            " 0.00000000e+00 0.00000000e+00 0.00000000e+00 0.00000000e+00\n",
            " 0.00000000e+00 0.00000000e+00 0.00000000e+00 0.00000000e+00\n",
            " 0.00000000e+00 0.00000000e+00 0.00000000e+00 0.00000000e+00\n",
            " 0.00000000e+00 0.00000000e+00 0.00000000e+00 0.00000000e+00\n",
            " 0.00000000e+00 0.00000000e+00 0.00000000e+00 0.00000000e+00\n",
            " 0.00000000e+00 0.00000000e+00 0.00000000e+00 0.00000000e+00\n",
            " 0.00000000e+00 0.00000000e+00 0.00000000e+00 0.00000000e+00\n",
            " 0.00000000e+00 0.00000000e+00 0.00000000e+00 0.00000000e+00\n",
            " 0.00000000e+00 0.00000000e+00 0.00000000e+00 0.00000000e+00\n",
            " 0.00000000e+00 0.00000000e+00 0.00000000e+00 2.01445804e-02\n",
            " 0.00000000e+00 0.00000000e+00 0.00000000e+00 0.00000000e+00\n",
            " 0.00000000e+00 0.00000000e+00 4.86184597e-05 0.00000000e+00\n",
            " 0.00000000e+00 0.00000000e+00 0.00000000e+00 0.00000000e+00\n",
            " 0.00000000e+00 0.00000000e+00 0.00000000e+00 0.00000000e+00\n",
            " 0.00000000e+00 0.00000000e+00 0.00000000e+00 0.00000000e+00\n",
            " 0.00000000e+00 0.00000000e+00 0.00000000e+00 0.00000000e+00\n",
            " 0.00000000e+00 0.00000000e+00 0.00000000e+00 0.00000000e+00\n",
            " 0.00000000e+00 0.00000000e+00 0.00000000e+00 0.00000000e+00\n",
            " 0.00000000e+00 0.00000000e+00 0.00000000e+00 0.00000000e+00\n",
            " 0.00000000e+00 0.00000000e+00 0.00000000e+00 0.00000000e+00\n",
            " 0.00000000e+00 0.00000000e+00 0.00000000e+00 0.00000000e+00\n",
            " 9.76120708e-03 0.00000000e+00 0.00000000e+00 0.00000000e+00\n",
            " 0.00000000e+00 0.00000000e+00 0.00000000e+00 0.00000000e+00\n",
            " 0.00000000e+00 0.00000000e+00 0.00000000e+00 0.00000000e+00\n",
            " 0.00000000e+00 1.03332374e-02 0.00000000e+00 0.00000000e+00\n",
            " 0.00000000e+00 0.00000000e+00 1.00000000e-02 0.00000000e+00\n",
            " 0.00000000e+00 0.00000000e+00 0.00000000e+00 0.00000000e+00\n",
            " 0.00000000e+00 0.00000000e+00 0.00000000e+00 0.00000000e+00\n",
            " 0.00000000e+00 0.00000000e+00 0.00000000e+00 0.00000000e+00\n",
            " 0.00000000e+00 0.00000000e+00 0.00000000e+00 0.00000000e+00\n",
            " 0.00000000e+00 1.98531560e-02 0.00000000e+00 0.00000000e+00\n",
            " 0.00000000e+00 0.00000000e+00 1.00000000e-02 0.00000000e+00\n",
            " 0.00000000e+00 0.00000000e+00 0.00000000e+00 0.00000000e+00\n",
            " 0.00000000e+00 4.85593663e-05 0.00000000e+00 2.00000000e-02\n",
            " 9.75936695e-03 0.00000000e+00 9.63675803e-05 0.00000000e+00\n",
            " 0.00000000e+00 0.00000000e+00 0.00000000e+00 0.00000000e+00\n",
            " 0.00000000e+00 0.00000000e+00 0.00000000e+00 0.00000000e+00\n",
            " 0.00000000e+00 0.00000000e+00 0.00000000e+00 9.76070602e-03\n",
            " 4.87055054e-05 0.00000000e+00 0.00000000e+00 0.00000000e+00\n",
            " 0.00000000e+00 0.00000000e+00 0.00000000e+00 0.00000000e+00\n",
            " 0.00000000e+00 0.00000000e+00 0.00000000e+00 0.00000000e+00\n",
            " 0.00000000e+00 0.00000000e+00 0.00000000e+00 0.00000000e+00\n",
            " 0.00000000e+00 0.00000000e+00 0.00000000e+00 0.00000000e+00\n",
            " 0.00000000e+00 0.00000000e+00 0.00000000e+00 0.00000000e+00\n",
            " 0.00000000e+00 9.68644951e-05 0.00000000e+00 1.44265474e-04\n",
            " 0.00000000e+00 9.90349186e-03 0.00000000e+00 3.00000000e-02\n",
            " 2.00000000e-02 0.00000000e+00 0.00000000e+00 0.00000000e+00\n",
            " 1.99518070e-02 0.00000000e+00 0.00000000e+00 0.00000000e+00\n",
            " 0.00000000e+00 0.00000000e+00 0.00000000e+00 0.00000000e+00\n",
            " 0.00000000e+00 0.00000000e+00 0.00000000e+00 0.00000000e+00\n",
            " 0.00000000e+00 0.00000000e+00 0.00000000e+00 0.00000000e+00\n",
            " 0.00000000e+00 0.00000000e+00 0.00000000e+00 9.66707882e-03\n",
            " 0.00000000e+00 0.00000000e+00 1.00000000e-02 0.00000000e+00\n",
            " 0.00000000e+00 0.00000000e+00 0.00000000e+00 0.00000000e+00\n",
            " 0.00000000e+00 0.00000000e+00 0.00000000e+00 0.00000000e+00\n",
            " 0.00000000e+00 0.00000000e+00 3.00000000e-02 0.00000000e+00\n",
            " 0.00000000e+00 0.00000000e+00 0.00000000e+00 0.00000000e+00\n",
            " 0.00000000e+00 0.00000000e+00 0.00000000e+00 0.00000000e+00\n",
            " 0.00000000e+00 0.00000000e+00 0.00000000e+00 0.00000000e+00\n",
            " 0.00000000e+00 0.00000000e+00 0.00000000e+00 2.39293981e-04\n",
            " 0.00000000e+00 0.00000000e+00 4.31208287e-04 0.00000000e+00\n",
            " 4.00000000e-02 0.00000000e+00 0.00000000e+00 0.00000000e+00\n",
            " 0.00000000e+00 0.00000000e+00 0.00000000e+00 0.00000000e+00\n",
            " 0.00000000e+00 0.00000000e+00 9.62691345e-05 4.00000000e-02\n",
            " 0.00000000e+00 0.00000000e+00 0.00000000e+00 0.00000000e+00\n",
            " 2.00000000e-02 0.00000000e+00 0.00000000e+00 0.00000000e+00\n",
            " 0.00000000e+00 1.00000000e-02 0.00000000e+00 4.83422185e-05\n",
            " 0.00000000e+00 9.80699332e-03 3.00000000e-02 0.00000000e+00\n",
            " 0.00000000e+00 0.00000000e+00 4.04260081e-02 0.00000000e+00\n",
            " 0.00000000e+00 0.00000000e+00 0.00000000e+00 4.82550615e-05\n",
            " 0.00000000e+00 0.00000000e+00 0.00000000e+00 0.00000000e+00\n",
            " 0.00000000e+00 0.00000000e+00 0.00000000e+00 0.00000000e+00\n",
            " 0.00000000e+00 0.00000000e+00 9.65266519e-05 0.00000000e+00\n",
            " 0.00000000e+00 9.95167699e-03 0.00000000e+00 0.00000000e+00\n",
            " 4.31208287e-04 0.00000000e+00 0.00000000e+00 0.00000000e+00\n",
            " 0.00000000e+00 0.00000000e+00 0.00000000e+00 0.00000000e+00\n",
            " 0.00000000e+00 0.00000000e+00 0.00000000e+00 0.00000000e+00\n",
            " 0.00000000e+00 0.00000000e+00 0.00000000e+00 0.00000000e+00\n",
            " 0.00000000e+00 0.00000000e+00 0.00000000e+00 1.04315681e-02\n",
            " 0.00000000e+00 0.00000000e+00 0.00000000e+00 4.82519604e-05\n",
            " 0.00000000e+00 0.00000000e+00 0.00000000e+00 0.00000000e+00\n",
            " 0.00000000e+00 0.00000000e+00 0.00000000e+00 0.00000000e+00\n",
            " 0.00000000e+00 0.00000000e+00 9.66469373e-03 0.00000000e+00\n",
            " 0.00000000e+00 0.00000000e+00 0.00000000e+00 0.00000000e+00\n",
            " 0.00000000e+00 0.00000000e+00 0.00000000e+00 0.00000000e+00\n",
            " 0.00000000e+00 0.00000000e+00 0.00000000e+00 0.00000000e+00\n",
            " 0.00000000e+00 0.00000000e+00 0.00000000e+00 0.00000000e+00\n",
            " 0.00000000e+00 0.00000000e+00 0.00000000e+00 0.00000000e+00\n",
            " 0.00000000e+00 0.00000000e+00 0.00000000e+00 0.00000000e+00\n",
            " 0.00000000e+00 0.00000000e+00 0.00000000e+00 0.00000000e+00\n",
            " 0.00000000e+00 1.92407545e-02 0.00000000e+00 0.00000000e+00\n",
            " 0.00000000e+00 0.00000000e+00 0.00000000e+00 0.00000000e+00\n",
            " 0.00000000e+00 0.00000000e+00 0.00000000e+00 0.00000000e+00\n",
            " 0.00000000e+00 0.00000000e+00 0.00000000e+00 0.00000000e+00\n",
            " 0.00000000e+00 0.00000000e+00 1.92791869e-04 0.00000000e+00\n",
            " 0.00000000e+00 0.00000000e+00 0.00000000e+00 0.00000000e+00\n",
            " 0.00000000e+00 0.00000000e+00 0.00000000e+00 0.00000000e+00\n",
            " 0.00000000e+00 0.00000000e+00 0.00000000e+00 0.00000000e+00\n",
            " 0.00000000e+00 0.00000000e+00 0.00000000e+00 0.00000000e+00\n",
            " 0.00000000e+00 0.00000000e+00 0.00000000e+00 0.00000000e+00\n",
            " 0.00000000e+00 0.00000000e+00 0.00000000e+00 1.00000000e-02\n",
            " 0.00000000e+00 0.00000000e+00 0.00000000e+00 0.00000000e+00\n",
            " 0.00000000e+00 0.00000000e+00 0.00000000e+00 0.00000000e+00\n",
            " 9.82255268e-05 0.00000000e+00 0.00000000e+00 0.00000000e+00\n",
            " 0.00000000e+00 0.00000000e+00 0.00000000e+00 0.00000000e+00\n",
            " 0.00000000e+00 0.00000000e+00 9.90313550e-03 0.00000000e+00\n",
            " 0.00000000e+00 0.00000000e+00 0.00000000e+00 0.00000000e+00\n",
            " 0.00000000e+00 9.66065066e-05 0.00000000e+00 0.00000000e+00\n",
            " 0.00000000e+00 0.00000000e+00 5.00478407e-02 0.00000000e+00\n",
            " 0.00000000e+00 0.00000000e+00 0.00000000e+00 0.00000000e+00\n",
            " 4.82530811e-05 0.00000000e+00 9.66151592e-03 0.00000000e+00\n",
            " 0.00000000e+00 0.00000000e+00 0.00000000e+00 0.00000000e+00\n",
            " 0.00000000e+00 9.95174804e-03 0.00000000e+00 0.00000000e+00\n",
            " 4.84403676e-05 0.00000000e+00 0.00000000e+00 0.00000000e+00\n",
            " 0.00000000e+00 0.00000000e+00 0.00000000e+00 4.83230104e-05\n",
            " 0.00000000e+00 0.00000000e+00 0.00000000e+00 0.00000000e+00\n",
            " 0.00000000e+00 0.00000000e+00 0.00000000e+00 0.00000000e+00\n",
            " 0.00000000e+00 0.00000000e+00 0.00000000e+00 0.00000000e+00\n",
            " 0.00000000e+00 0.00000000e+00 0.00000000e+00 0.00000000e+00\n",
            " 0.00000000e+00 0.00000000e+00 0.00000000e+00 0.00000000e+00\n",
            " 0.00000000e+00 0.00000000e+00 9.56879171e-03 0.00000000e+00\n",
            " 0.00000000e+00 0.00000000e+00 0.00000000e+00 0.00000000e+00\n",
            " 0.00000000e+00 0.00000000e+00 0.00000000e+00 0.00000000e+00\n",
            " 0.00000000e+00 0.00000000e+00 0.00000000e+00 0.00000000e+00\n",
            " 0.00000000e+00 0.00000000e+00 0.00000000e+00 0.00000000e+00\n",
            " 0.00000000e+00 0.00000000e+00 0.00000000e+00 0.00000000e+00\n",
            " 0.00000000e+00 0.00000000e+00 0.00000000e+00 0.00000000e+00\n",
            " 0.00000000e+00 0.00000000e+00 0.00000000e+00 0.00000000e+00\n",
            " 0.00000000e+00 0.00000000e+00 0.00000000e+00 0.00000000e+00\n",
            " 9.85541958e-03 0.00000000e+00 0.00000000e+00 0.00000000e+00\n",
            " 0.00000000e+00 0.00000000e+00 3.32921184e-04 0.00000000e+00\n",
            " 0.00000000e+00 0.00000000e+00 0.00000000e+00]\n"
          ]
        }
      ],
      "source": [
        "print(forest_model.feature_importances_)"
      ]
    },
    {
      "cell_type": "code",
      "execution_count": null,
      "id": "5b2b9381-fa69-4a2d-ab26-9bcfa03a0ec5",
      "metadata": {
        "id": "5b2b9381-fa69-4a2d-ab26-9bcfa03a0ec5",
        "outputId": "54d273cd-ccf8-42ec-cdf8-eb74b4a3d4c6",
        "tags": []
      },
      "outputs": [
        {
          "name": "stdout",
          "output_type": "stream",
          "text": [
            "[11, 68, 130, 476, 487, 506, 666]\n"
          ]
        }
      ],
      "source": [
        "import heapq\n",
        "\n",
        "forest_importances = forest_model.feature_importances_\n",
        "k = 7\n",
        "k_keys_sorted = heapq.nlargest(k, forest_importances)\n",
        "# print(k_keys_sorted)\n",
        "index_list = []\n",
        "for j in range(0, len(forest_importances)):\n",
        "    if forest_importances[j] in k_keys_sorted:\n",
        "        index_list.append(j)\n",
        "print(index_list)"
      ]
    },
    {
      "cell_type": "code",
      "execution_count": null,
      "id": "70d5258d-d71a-4b04-a190-0cf638b98759",
      "metadata": {
        "id": "70d5258d-d71a-4b04-a190-0cf638b98759",
        "outputId": "037b8ff7-a024-4b30-eb99-b988b8104a4e",
        "tags": []
      },
      "outputs": [
        {
          "name": "stdout",
          "output_type": "stream",
          "text": [
            "['ENSG00000136149.6', 'ENSG00000203362.2', 'ENSG00000215006.4', 'ENSG00000253797.2', 'ENSG00000254612.2', 'ENSG00000256393.1', 'ENSG00000268030.1']\n"
          ]
        }
      ],
      "source": [
        "gene_list = []\n",
        "for idx in index_list:\n",
        "    gene_list.append(full_feature_array[idx])\n",
        "\n",
        "print(gene_list)"
      ]
    }
  ],
  "metadata": {
    "colab": {
      "provenance": []
    },
    "kernelspec": {
      "display_name": "Python (GPU)",
      "language": "python",
      "name": "gpu_env"
    },
    "language_info": {
      "codemirror_mode": {
        "name": "ipython",
        "version": 3
      },
      "file_extension": ".py",
      "mimetype": "text/x-python",
      "name": "python",
      "nbconvert_exporter": "python",
      "pygments_lexer": "ipython3",
      "version": "3.9.18"
    }
  },
  "nbformat": 4,
  "nbformat_minor": 5
}
